{
 "cells": [
  {
   "cell_type": "markdown",
   "metadata": {},
   "source": [
    "# MIDS Machine Learning At Scale\n",
    "### Week 1 Homework"
   ]
  },
  {
   "cell_type": "markdown",
   "metadata": {},
   "source": [
    "[Placeholder for introduction to assignment]"
   ]
  },
  {
   "cell_type": "markdown",
   "metadata": {},
   "source": [
    "<b>HW1.0.0.</b> Define big data. Provide an example of a big data problem in your domain of expertise. "
   ]
  },
  {
   "cell_type": "markdown",
   "metadata": {},
   "source": [
    "Answer: Big data means different things to different people in different contexts. For my current employer, it simply means datasets that take hours to process when using a single machine. \n",
    "\n",
    "I've often found it most practical to sidestep the term entirely and to instead focus instead on selecting the appropriate tools for any analysis regardless of if it is \"big data\" or not. For some people, \"big data\" has become a marketing buzzword that distracts from discussion of the actual analyses taking place. As a data scientist, our goal is to present results in a way that can inform decisions and change action. As such, I have found it is important to understand how the decision makers in an organization define \"big data\" and to present analyses in the context of their views. For those who find \"big data\" to be pure marketing jargon, it is more effective to call all analyses \"data analysis\" and to ignore the term entirely.\n",
    "[Not entirely happy with this, need more nuance]\n",
    "\n",
    "In a class reading, we are told that Steve Lohr of The New York Times described \"big data\" as \"a catchall phrase [to mean]... a bundle of technologies, ...a potential revolution in measurement, ...[and a] philosophy, about how decisions will be and perhaps should be made in the future.\" I personally like this quote: it covers a strategic and emotional spirit that I think sometimes gets lost in \"big data\" definitions.\n",
    "\n",
    "Others define \"big data\" as problems involving the four V's: volume, variety, velocity and varacity. This definition has issues too, as it is unclear if just one or two of these topics is enough to qualify an analysis as \"big data\". A physically small group of datasets can have high variety and also varacity issues. Would this qualify as \"big data\"?\n",
    "\n",
    "As an economic consultant, I work across domains. The following would be considered big data problems at my current firm:\n",
    "- Needing to review 104,000 Analyst Reports for a litigation matter.\n",
    "- Modeling the Northeastern US power system and interactions between each generator, bus, and load in every hour over 30 years\n",
    "- Examining healthcare outcomes based on statistical review of the medical records of millions of patients, typically combining Electronic Medical Records (EMR) and Claims\n"
   ]
  },
  {
   "cell_type": "markdown",
   "metadata": {},
   "source": [
    "<b>HW1.0.1.</b> In 500 words (English or pseudo code or a combination) describe how to estimate the bias, the variance, the error for a test dataset T when using polynomial regression models of degree 1, 2,3, 4,5 are considered. How would you select a model?\n"
   ]
  },
  {
   "cell_type": "markdown",
   "metadata": {},
   "source": [
    "<b>HW1.1.</b> Read through the provided control script (pNaiveBayes.sh) and all of its comments. When you are comfortable with their purpose and function, respond to the remaining homework questions below. A simple cell in the notebook with a print statmement with  a \"done\" string will suffice here. (dont forget to include the Question Number and the quesition in the cell as a multiline comment!)"
   ]
  },
  {
   "cell_type": "markdown",
   "metadata": {},
   "source": [
    "<b>HW1.2.</b> Provide a mapper/reducer pair that, when executed by pNaiveBayes.sh will determine the number of occurrences of a single, user-specified word. Examine the word “assistance” and report your results.\n",
    "\n",
    "   To do so, make sure that:\n",
    "   - mapper.py counts all occurrences of a single word, and\n",
    "   - reducer.py collates the counts of the single word.\n",
    "\n",
    "CROSSCHECK: >grep assistance enronemail_1h.txt|cut -d$'\\t' -f4| grep assistance|wc -l\n",
    "       8"
   ]
  },
  {
   "cell_type": "markdown",
   "metadata": {},
   "source": [
    "<b>HW1.3. </b>Provide a mapper/reducer pair that, when executed by pNaiveBayes.sh\n",
    "   will classify the email messages by a single, user-specified word. Examine the word “assistance” and report your results. To do so, make sure that\n",
    "   \n",
    "   - mapper.py is same as in part (2), and\n",
    "   - reducer.py performs a single word Naive Bayes classification."
   ]
  },
  {
   "cell_type": "markdown",
   "metadata": {},
   "source": [
    "<b>HW1.4.</b> Provide a mapper/reducer pair that, when executed by pNaiveBayes.sh\n",
    "   will classify the email messages by a list of one or more user-specified words. Examine the words “assistance”, “valium”, and “enlargementWithATypo” and report your results\n",
    "   To do so, make sure that\n",
    "\n",
    "   - mapper.py counts all occurrences of a list of words, and\n",
    "   - reducer.py performs the multiple-word Naive Bayes classification via the chosen list."
   ]
  },
  {
   "cell_type": "markdown",
   "metadata": {},
   "source": [
    "<b>HW1.5.</b> Provide a mapper/reducer pair that, when executed by pNaiveBayes.sh will classify the email messages by all words present. To do so, make sure that\n",
    "\n",
    "   - mapper.py counts all occurrences of all words, and\n",
    "   - reducer.py performs a word-distribution-wide Naive Bayes classification."
   ]
  },
  {
   "cell_type": "markdown",
   "metadata": {},
   "source": []
  },
  {
   "cell_type": "code",
   "execution_count": null,
   "metadata": {
    "collapsed": true
   },
   "outputs": [],
   "source": []
  }
 ],
 "metadata": {
  "kernelspec": {
   "display_name": "Python 2",
   "language": "python",
   "name": "python2"
  },
  "language_info": {
   "codemirror_mode": {
    "name": "ipython",
    "version": 2
   },
   "file_extension": ".py",
   "mimetype": "text/x-python",
   "name": "python",
   "nbconvert_exporter": "python",
   "pygments_lexer": "ipython2",
   "version": "2.7.8"
  }
 },
 "nbformat": 4,
 "nbformat_minor": 0
}
