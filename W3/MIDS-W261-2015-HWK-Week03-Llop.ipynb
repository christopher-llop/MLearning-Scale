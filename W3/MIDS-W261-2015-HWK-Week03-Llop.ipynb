{
 "cells": [
  {
   "cell_type": "markdown",
   "metadata": {},
   "source": [
    "# MIDS W261 Machine Learning At Scale"
   ]
  },
  {
   "cell_type": "markdown",
   "metadata": {},
   "source": [
    "Christopher Llop | christopher.llop@ischool.berkeley.edu <br>\n",
    "Week 3 | Submission Date: 9/22/2015\n"
   ]
  },
  {
   "cell_type": "markdown",
   "metadata": {},
   "source": [
    "<b>HW3.0.</b>\n",
    "\n",
    "What is a merge sort? Where is it used in Hadoop?\n",
    "\n",
    "\n",
    "\n",
    "How is  a combiner function in the context of Hadoop? \n",
    "\n",
    "\n",
    "\n",
    "Give an example where it can be used and justify why it should be used in the context of this problem.\n",
    "\n",
    "\n",
    "\n",
    "What is the Hadoop shuffle?\n",
    "\n",
    "\n",
    "\n",
    "What is the Apriori algorithm? Describe an example use in your domain of expertise. \n",
    "\n",
    "\n",
    "\n",
    "Define confidence and lift."
   ]
  },
  {
   "cell_type": "code",
   "execution_count": null,
   "metadata": {
    "collapsed": true
   },
   "outputs": [],
   "source": []
  },
  {
   "cell_type": "markdown",
   "metadata": {},
   "source": [
    "<span style=\"color:silver\"><b>HW3.1. </b></span>\n",
    "\n",
    "<span style=\"color:silver\">Product Recommendations: The action or practice of selling additional products or services to existing customers is called cross-selling. Giving product recommendation is one of the examples of cross-selling that are frequently used by online retailers. One simple method to give product recommendations is to recommend products that are frequently browsed together by the customers.</span>\n",
    "\n",
    "<span style=\"color:silver\">Suppose we want to recommend new products to the customer based on the products they have already browsed on the online website. Write a program using the A-priori algorithm to find products which are frequently browsed together. Fix the support to s = 100  (i.e. product pairs need to occur together at least 100 times to be considered frequent) and find itemsets of size 2 and 3. (Note - Jake told us not to do this via the Google Group).</span>\n",
    "\n",
    "<span style=\"color:silver\">Use the online browsing behavior dataset at: </span>\n",
    "\n",
    "https://www.dropbox.com/s/zlfyiwa70poqg74/ProductPurchaseData.txt?dl=0\n",
    "\n",
    "<span style=\"color:silver\">Each line in this dataset represents a browsing session of a customer. On each line, each string <br>\n",
    "of 8 characters represents the id of an item browsed during that session. The items are separated <br>\n",
    "by spaces.</span>\n",
    "\n",
    "<span style=\"color:silver\">Do some exploratory data analysis of this dataset. </span>\n",
    "\n",
    "<span style=\"color:silver\">Report your findings such as number of unique products; largest basket, etc. using Hadoop Map-Reduce.</span>"
   ]
  },
  {
   "cell_type": "markdown",
   "metadata": {},
   "source": [
    "<span style=\"color:green\"><b>Answer:</b></span>\n",
    "We were asked to preform some EDA. I've decided to look at the number of unique products, the largest basket, the freqency of each basket size, and the frequency of each product. The code below solves each of these problems. There are two MapReduce runs. The first calculates the number of unique products and the product frequency. The second finds the largest basket (it turns out there is a tie) and counts the frequency of each basket."
   ]
  },
  {
   "cell_type": "code",
   "execution_count": null,
   "metadata": {
    "collapsed": true
   },
   "outputs": [],
   "source": [
    "# Number of unique products and product frequency can be solved together"
   ]
  },
  {
   "cell_type": "code",
   "execution_count": null,
   "metadata": {
    "collapsed": false
   },
   "outputs": [],
   "source": [
    "%%writefile mapper.py\n",
    "#!/usr/bin/python\n",
    "import sys\n",
    "item_inventory = {}\n",
    "\n",
    "for line in sys.stdin:\n",
    "    for item in line.rstrip('\\n').split():\n",
    "        item_inventory[item] = item_inventory.get(item, 0) + 1\n",
    "            \n",
    "for item, inventory in item_inventory.iteritems():\n",
    "    print \"{}\\t{}\".format(item, inventory)"
   ]
  },
  {
   "cell_type": "code",
   "execution_count": null,
   "metadata": {
    "collapsed": false
   },
   "outputs": [],
   "source": [
    "%%writefile reducer.py\n",
    "#!/usr/bin/python\n",
    "import sys\n",
    "\n",
    "unique_item_count = 0\n",
    "current_item_count = 0\n",
    "current_item = \"\"\n",
    "\n",
    "for line in sys.stdin:\n",
    "    line = line.rstrip('\\n').split()\n",
    "    if current_item == line[0]:\n",
    "        # If same item, add to count\n",
    "        current_item_count += int(line[1])\n",
    "    else:\n",
    "        # If new item, print, increment unique, restart count\n",
    "        if unique_item_count > 0:\n",
    "            print current_item, current_item_count\n",
    "        unique_item_count += 1\n",
    "        current_item_count = int(line[1])\n",
    "        current_item = line[0]\n",
    "        \n",
    "# Print final row of counts\n",
    "print current_item, current_item_count\n",
    "\n",
    "# Finally, print the number of unique items (will be on last row of reducer output)\n",
    "print unique_item_count\n"
   ]
  },
  {
   "cell_type": "code",
   "execution_count": null,
   "metadata": {
    "collapsed": true
   },
   "outputs": [],
   "source": [
    "# Use chmod for permissions\n",
    "!chmod a+x mapper.py\n",
    "!chmod a+x reducer.py"
   ]
  },
  {
   "cell_type": "code",
   "execution_count": null,
   "metadata": {
    "collapsed": false
   },
   "outputs": [],
   "source": [
    "# Move files and make directory\n",
    "!hadoop fs -mkdir ./W261/In/HW3\n",
    "!hdfs dfs -put ./ProductPurchaseData.txt ./W261/In/HW3/"
   ]
  },
  {
   "cell_type": "code",
   "execution_count": null,
   "metadata": {
    "collapsed": false
   },
   "outputs": [],
   "source": [
    "# HW3.1_a: Execute a job using Hadoop Streaming to generate 10,000 random integers and sort them.\n",
    "def HW3_1a():\n",
    "    !hadoop jar /usr/local/Cellar/hadoop/2.6.0/libexec/share/hadoop/tools/lib/hadoop-streaming-2.6.0.jar \\\n",
    "    -Dmapreduce.job.maps=10 \\\n",
    "    -Dmapreduce.job.reduces=1 \\\n",
    "    -files ./mapper.py,./reducer.py \\\n",
    "    -mapper ./mapper.py  \\\n",
    "    -reducer ./reducer.py \\\n",
    "    -input ./W261/In/HW3/ProductPurchaseData.txt -output ./W261/Out/HW3_1_a    \n",
    "    \n",
    "#HW3_1a()\n",
    "\n",
    "# Note - to clean up this python notebook, we ran HW3_1a and are replacing with its output\n",
    "print \"The first 5 results in the reducer output are:\"\n",
    "!hadoop fs -cat ./W261/Out/HW3_1_a/part-00000 | head -n5\n",
    "\n",
    "print\n",
    "print \"The total number of unique items is:\"\n",
    "!hadoop fs -cat ./W261/Out/HW3_1_a/part-00000 | tail -n1\n"
   ]
  },
  {
   "cell_type": "code",
   "execution_count": null,
   "metadata": {
    "collapsed": true
   },
   "outputs": [],
   "source": [
    "# Largest basket and frequency of basket counts"
   ]
  },
  {
   "cell_type": "code",
   "execution_count": null,
   "metadata": {
    "collapsed": false
   },
   "outputs": [],
   "source": [
    "%%writefile mapper.py\n",
    "#!/usr/bin/python\n",
    "import sys\n",
    "\n",
    "basket_inventory = {}\n",
    "\n",
    "for basket in sys.stdin:\n",
    "#    for basket in line:\n",
    "    basket = basket.rstrip('\\n')\n",
    "    basket_inventory[basket] = basket_inventory.get(basket, 0) + 1\n",
    "            \n",
    "# Note - this code assumes we can fit the ENTIRE document in memory. This isnt' best practice.\n",
    "#   I should really updated this code to check memory and emit whenever memory hits a certain point.\n",
    "for basket, inventory in basket_inventory.iteritems():\n",
    "    print \"{}\\t{}\".format(basket, inventory)\n"
   ]
  },
  {
   "cell_type": "code",
   "execution_count": null,
   "metadata": {
    "collapsed": false
   },
   "outputs": [],
   "source": [
    "%%writefile reducer.py\n",
    "#!/usr/bin/python\n",
    "import sys\n",
    "\n",
    "unique_basket_count = 0\n",
    "current_basket_count = 0\n",
    "current_basket = \"\"\n",
    "largest_basket = []\n",
    "largest_basket_size = 0\n",
    "\n",
    "for line in sys.stdin:\n",
    "    line = line.rstrip('\\n').split('\\t')\n",
    "    if current_basket == line[0]:\n",
    "        # If same item, add to count\n",
    "        current_basket_count += int(line[1])\n",
    "    else:\n",
    "        # If new item, print, increment unique, restart count\n",
    "        if unique_basket_count > 0:\n",
    "            print current_basket.rstrip('\\n'), current_basket_count\n",
    "        unique_basket_count += 1\n",
    "        current_basket_count = int(line[1])\n",
    "        current_basket = line[0]\n",
    "        \n",
    "    # Track the maximum basket size\n",
    "    if len(current_basket.split()) > largest_basket_size:\n",
    "        largest_basket_size = len(current_basket.split())\n",
    "        largest_basket = [current_basket]\n",
    "    elif len(current_basket.split()) == largest_basket_size:\n",
    "        largest_basket.append(current_basket)\n",
    "        \n",
    "print current_basket.rstrip('\\n'), current_basket_count\n",
    "print \"The largest basket(s) have {} items. There are {} such baskets: {}\".format(\n",
    "    largest_basket_size, len(largest_basket), largest_basket)"
   ]
  },
  {
   "cell_type": "code",
   "execution_count": null,
   "metadata": {
    "collapsed": false
   },
   "outputs": [],
   "source": [
    "# HW3.1_b: Execute a job using Hadoop Streaming to generate 10,000 random integers and sort them.\n",
    "def HW3_1b():\n",
    "    !hadoop jar /usr/local/Cellar/hadoop/2.6.0/libexec/share/hadoop/tools/lib/hadoop-streaming-2.6.0.jar \\\n",
    "    -Dmapreduce.job.maps=10 \\\n",
    "    -Dmapreduce.job.reduces=1 \\\n",
    "    -files ./mapper.py,./reducer.py \\\n",
    "    -mapper ./mapper.py  \\\n",
    "    -reducer ./reducer.py \\\n",
    "    -input ./W261/In/HW3/ProductPurchaseData.txt -output ./W261/Out/HW3_1_b    \n",
    "    \n",
    "#HW3_1b()\n",
    "\n",
    "# Note - to clean up this python notebook, we ran HW3_1b and are replacing with its output\n",
    "print \"The first 5 results in the reducer output are:\"\n",
    "!hadoop fs -cat ./W261/Out/HW3_1_b/part-00000 | head -n5\n",
    "\n",
    "print\n",
    "print \"Printing largest baskets....\"\n",
    "!hadoop fs -cat ./W261/Out/HW3_1_b/part-00000 | tail -n1\n"
   ]
  },
  {
   "cell_type": "markdown",
   "metadata": {},
   "source": [
    "<b>HW3.2.</b> (Computationally prohibitive but then again Hadoop can handle this)\n",
    "\n",
    "Note: for this part the writeup will require a specific rule ordering but the program need not sort the output.\n",
    "\n",
    "List the top 5 rules with corresponding confidence scores in decreasing order of confidence score \n",
    "for frequent (100>count) itemsets of size 2. \n",
    "A rule is of the form: \n",
    "\n",
    "(item1) ⇒ item2.\n",
    "\n",
    "Fix the ordering of the rule lexicographically (left to right), \n",
    "and break ties in confidence (between rules, if any exist) \n",
    "by taking the first ones in lexicographically increasing order. \n",
    "Use Hadoop MapReduce to complete this part of the assignment; \n",
    "use a single mapper and single reducer; use a combiner if you think it will help and justify. \n"
   ]
  },
  {
   "cell_type": "markdown",
   "metadata": {},
   "source": [
    "<span style=\"color:green\"><b>Answer:</b></span>\n",
    "I will solve this using the Apriori algorithm. To do so, we must first tabulate the counts for each item. Then, when checking item pairs, we first will make sure that each item is 'frequent' before checking to see if the item pair is 'frequent'. If either of the two items in the proposed pair is not frequent, we can skip checking to see if the pair itself is frequent.\n",
    "\n",
    "I will do this using inverted ordering. The mapper/combiner will output two sorts of records:\n",
    "\n",
    "The first type of record will automatically sort to the top and will allow us to calculate single-item frequency before processing pairs:\n",
    "\n",
    "\\* ITEM_ID COUNT\n",
    "\n",
    "The second type of record will count pairs. Because of the inverted ordering, we can be assured we can calculate the single-term frequency before processing the term pairs:\n",
    "\n",
    "*ITEM_ID ITEM_ID COUNT\n",
    "\n",
    "\n",
    "I will use the \"pairs\" approach, as explained in the code comments below."
   ]
  },
  {
   "cell_type": "code",
   "execution_count": 116,
   "metadata": {
    "collapsed": false
   },
   "outputs": [
    {
     "name": "stdout",
     "output_type": "stream",
     "text": [
      "Overwriting mapper.py\n"
     ]
    }
   ],
   "source": [
    "%%writefile mapper.py\n",
    "#!/usr/bin/python\n",
    "import sys\n",
    "\n",
    "# Formula is: I -> J = (I U J) / I\n",
    "\n",
    "# Pairs Approach | Note, I'm traveling to see a sick family member this weekend. While\n",
    "# stipes is faster and perhaps a better approach, I am making the design decision that, in \n",
    "# my case, time of the programmer is the resource that we need to take into account. You can \n",
    "# liken this to a business situation where a project cannot afford programing hours, but can\n",
    "# have a longer runtime :). In future weeks, I'll make different decisions to experiment\n",
    "# with stripes.\n",
    "\n",
    "# To gain some efficiecny back, I'll write a quick combiner to help make things better.\n",
    "# In this case, there is no way the combiner will hurt things. I have to write code similar \n",
    "# to the combiner for the reducer anyways, so I'll just let Hadoop decide if it has spare\n",
    "# bandwidth to run the combiner. Remember: Hadoop doesn't guarantee it will run the combiner\n",
    "# if it doesn't make sense to.\n",
    "\n",
    "basket_inventory = {}\n",
    "        \n",
    "for basket in sys.stdin:\n",
    "    # Get unique items in basket\n",
    "    basket = list(set(basket.rstrip('\\n').split()))\n",
    "\n",
    "    # Output a single record for each item so that we can use order inversion in our\n",
    "    # reduce side frequency count.\n",
    "    for item1 in basket:\n",
    "        for item2 in basket:\n",
    "            if item1 == item2:\n",
    "                print \"* {}\\t1\".format(item1)\n",
    "            else:\n",
    "                print \"{} {}\\t1\".format(item1, item2)\n",
    "\n"
   ]
  },
  {
   "cell_type": "code",
   "execution_count": 117,
   "metadata": {
    "collapsed": false
   },
   "outputs": [
    {
     "name": "stdout",
     "output_type": "stream",
     "text": [
      "Overwriting combiner.py\n"
     ]
    }
   ],
   "source": [
    "%%writefile combiner.py\n",
    "#!/usr/bin/python\n",
    "import sys\n",
    "\n",
    "#itempairs = [\"* 55\\t1\",\"* 55\\t1\",\"* 66\\t1\",\"23 45\\t1\",\"23 45\\t1\",\"23 95\\t1\"]\n",
    "currentpair = \"\"\n",
    "currentcount = 0\n",
    "\n",
    "for itempair in sys.stdin:\n",
    "#for itempair in itempairs:\n",
    "    itempair = itempair.rstrip('\\n')\n",
    "    # If multiple of one key in a row, sum\n",
    "    if itempair.split('\\t')[0] == currentpair:\n",
    "        currentcount += int(itempair.split('\\t')[1])\n",
    "    else:\n",
    "        # Otherwise, print and reset counters. Note - a combiner must print in the same format\n",
    "        # as a mapper.\n",
    "        if currentcount > 0:\n",
    "            print \"{}\\t{}\".format(currentpair, currentcount)\n",
    "        currentpair = itempair.split('\\t')[0]\n",
    "        currentcount = int(itempair.split('\\t')[1])\n",
    "print \"{}\\t{}\".format(currentpair, currentcount)\n"
   ]
  },
  {
   "cell_type": "code",
   "execution_count": 118,
   "metadata": {
    "collapsed": false
   },
   "outputs": [
    {
     "name": "stdout",
     "output_type": "stream",
     "text": [
      "Overwriting reducer.py\n"
     ]
    }
   ],
   "source": [
    "%%writefile reducer.py\n",
    "#!/usr/bin/python\n",
    "import sys\n",
    "\n",
    "currentpair = \"\"\n",
    "currentcount = 0\n",
    "itemlist_freq = {}\n",
    "itempair_freq = {}\n",
    "frequent_cutoff = 100\n",
    "\n",
    "#itempairs = [\"* 55\\t1\",\"* 55\\t3\",\"* 45\\t51\",\"* 66\\t1\",\"23 95\\t1\",\"55 45\\t1\",\"55 45\\t1\"]\n",
    "\n",
    "#for itempair in itempairs:\n",
    "for itempair in sys.stdin:\n",
    "    itempair = itempair.rstrip('\\n')\n",
    "    itempair, count = itempair.split('\\t')\n",
    "    firstitem, seconditem = itempair.split(' ')\n",
    "    \n",
    "    # For all sorts of records, we are not assured that the combiner fully combined\n",
    "    # things. As such, we make sure the reducer finishes combining.\n",
    "    # If we have a repeated key, sum the count\n",
    "    if itempair == currentpair:\n",
    "        currentcount += int(count)\n",
    "    else:\n",
    "        # Otherwise, post process\n",
    "        if currentcount > 0:\n",
    "            # For \"*\" records, store into dictionary to use later\n",
    "            if currentpair.split()[0] == \"*\":\n",
    "                itemlist_freq[currentpair.split()[1]] = currentcount\n",
    "#                    print \"{}\\t{}\".format(currentpair, currentcount)\n",
    "            elif firstitem != \"*\":\n",
    "            # For pairs, first see if components pass the min value (100)\n",
    "            # Note - this step isn't technically needed since we already have the\n",
    "            # pair count, however, we implement it in the spirit of the Apriori Alg.\n",
    "                if itemlist_freq.get(currentpair.split()[0], 0) > frequent_cutoff and itemlist_freq.get(\n",
    "                    currentpair.split()[1], 0) > frequent_cutoff:\n",
    "                    # If both components pass, check to see if the full count passes\n",
    "                    if currentcount > frequent_cutoff:\n",
    "                        # In this case, we can calculate confidence score and output\n",
    "                        print \"{} => {} = {}\".format(currentpair.split()[0], currentpair.split(\n",
    "                            )[1], float(currentcount)/itemlist_freq[currentpair.split()[0]])\n",
    "        currentpair = itempair\n",
    "        currentcount = int(count)\n",
    "\n",
    "# Because of our loop structure, we'll need to check then output one last score\n",
    "if itemlist_freq.get(currentpair.split()[0], 0) > frequent_cutoff and itemlist_freq.get(\n",
    "    currentpair.split()[1], 0) > frequent_cutoff:\n",
    "    # If both components pass, check to see if the full count passes\n",
    "    if currentcount > frequent_cutoff:\n",
    "        # In this case, we can calculate confidence score and output\n",
    "        print \"{} => {} = {}\".format(currentpair.split()[0], currentpair.split(\n",
    "            )[1], float(currentcount)/itemlist_freq[currentpair.split()[0]])\n"
   ]
  },
  {
   "cell_type": "code",
   "execution_count": 121,
   "metadata": {
    "collapsed": false
   },
   "outputs": [
    {
     "name": "stdout",
     "output_type": "stream",
     "text": [
      "The first 10 results in the reducer output are:\n",
      "15/09/21 21:59:25 WARN util.NativeCodeLoader: Unable to load native-hadoop library for your platform... using builtin-java classes where applicable\n",
      "DAI16732 => FRO78087 = 0.566844919786\t\n",
      "DAI18527 => SNA44451 = 0.380597014925\t\n",
      "DAI22177 => DAI31081 = 0.0780577750461\t\n",
      "DAI22177 => DAI62779 = 0.234787953288\t\n",
      "DAI22177 => DAI63921 = 0.0835894283958\t\n",
      "DAI22177 => DAI75645 = 0.0755992624462\t\n",
      "DAI22177 => DAI83733 = 0.0774431468961\t\n",
      "DAI22177 => DAI85309 = 0.105716041795\t\n",
      "DAI22177 => ELE17451 = 0.124769514444\t\n",
      "DAI22177 => ELE26917 = 0.0823601720959\t\n",
      "cat: Unable to write to output stream.\n"
     ]
    }
   ],
   "source": [
    "# HW3.2: Run MapReduce with mapper, reducer, and combiner\n",
    "def HW3_2():\n",
    "    !hadoop jar /usr/local/Cellar/hadoop/2.6.0/libexec/share/hadoop/tools/lib/hadoop-streaming-2.6.0.jar \\\n",
    "    -Dmapreduce.job.maps=1 \\\n",
    "    -Dmapreduce.job.reduces=1 \\\n",
    "    -mapper ./mapper.py  \\\n",
    "    -combiner ./combiner.py \\\n",
    "    -reducer ./reducer.py \\\n",
    "    -input ./W261/In/HW3/ProductPurchaseData.txt -output ./W261/Out/HW3_2    \n",
    "#    -combiner ./combiner.py  \\\n",
    "#HW3_2()\n",
    "\n",
    "# Note - to clean up this python notebook, we ran HW3_2 and are replacing with its output\n",
    "print \"The first 10 results in the reducer output are:\"\n",
    "!hadoop fs -cat ./W261/Out/HW3_2/part-00000 | head -n10\n"
   ]
  },
  {
   "cell_type": "markdown",
   "metadata": {},
   "source": [
    "<span style=\"color:green\"><b>Answer:</b></span>\n",
    "We were told we do not need to sort the top list in Hadoop. I will read them from file, after downloading the file from HDFS\n",
    "\n"
   ]
  },
  {
   "cell_type": "code",
   "execution_count": 7,
   "metadata": {
    "collapsed": false
   },
   "outputs": [
    {
     "name": "stdout",
     "output_type": "stream",
     "text": [
      "('DAI93865', 'FRO40251', '1.0')\n",
      "('GRO85051', 'FRO40251', '0.999176276771')\n",
      "('GRO38636', 'FRO40251', '0.990654205607')\n",
      "('ELE12951', 'FRO40251', '0.990566037736')\n",
      "('DAI88079', 'FRO40251', '0.986725663717')\n"
     ]
    }
   ],
   "source": [
    "results_list = []\n",
    "with open(\"part-00000\") as output:\n",
    "    for line in output:\n",
    "        results_list.append((line.strip('\\n').split()[0], line.strip('\\n').split()[2], line.strip('\\n').split()[4]))\n",
    "\n",
    "# Note - I confirmed there are not ties, so we do not need to worry about lex. order\n",
    "for ranked_result in sorted(results_list,key=lambda x: x[2], reverse=True)[:5]:\n",
    "    print ranked_result"
   ]
  },
  {
   "cell_type": "code",
   "execution_count": 119,
   "metadata": {
    "collapsed": false
   },
   "outputs": [
    {
     "name": "stdout",
     "output_type": "stream",
     "text": [
      "15/09/21 21:46:58 WARN util.NativeCodeLoader: Unable to load native-hadoop library for your platform... using builtin-java classes where applicable\n",
      "15/09/21 21:47:06 INFO fs.TrashPolicyDefault: Namenode trash configuration: Deletion interval = 0 minutes, Emptier interval = 0 minutes.\n",
      "Deleted W261/Out/HW3_2\n"
     ]
    }
   ],
   "source": [
    "# This cell can be used to delete old output to allow re-run of any Hadoop script.\n",
    "#!hadoop fs -rm -r ./W261/Out/HW3_1_a\n",
    "#!hadoop fs -rm -r ./W261/Out/HW3_1_b\n",
    "!hadoop fs -rm -r ./W261/Out/HW3_2\n",
    "#!hadoop fs -rm -r ./W261/Out/HW2_2"
   ]
  },
  {
   "cell_type": "code",
   "execution_count": null,
   "metadata": {
    "collapsed": false
   },
   "outputs": [],
   "source": [
    "# Formula is: I -> J = (I U J) / I\n",
    "\n",
    "# Pairs Approach | Note, I'm traveling to see a sick family member this weekend. While\n",
    "# stipes is faster and perhaps a better approach, I am making the design decision that, in \n",
    "# my case, time of the programmer is the resource that we need to take into account. You can \n",
    "# liken this to a business situation where a project cannot afford programing hours, but can\n",
    "# have a longer runtime :). In future weeks, I'll make different decisions.\n",
    "\n",
    "# To gain some efficiecny back, I'll write a quick combiner to help make things better.\n",
    "\n",
    "basket_inventory = {}\n",
    "x = 1\n",
    "with open(\"ProductPurchaseData.txt\") as infile:\n",
    "    for basket in infile:\n",
    "        # Get unique items in basket\n",
    "        basket = list(set(basket.rstrip('\\n').split()))\n",
    "\n",
    "        # Output a single record for each item so that we can use order inversion in our\n",
    "        # reduce side frequency count.\n",
    "        for item1 in basket:\n",
    "            for item2 in basket:\n",
    "                if item1 == item2:\n",
    "                    print \"*\\t{} 1\".format(item1)\n",
    "                else:\n",
    "                    print \"{}\\t{} 1\".format(item1, item2)\n",
    "                           \n",
    "        break\n",
    "        \n",
    "#        basket_inventory[basket] = basket_inventory.get(basket, 0) + 1"
   ]
  },
  {
   "cell_type": "markdown",
   "metadata": {},
   "source": [
    "<b>HW3.3 [Note - We were instructed to skip this problem]</b>\n",
    "\n",
    "Benchmark your results using the pyFIM implementation of the Apriori algorithm\n",
    "(Apriori - Association Rule Induction / Frequent Item Set Mining implemented by Christian Borgelt). \n",
    "You can download pyFIM from here: \n",
    "\n",
    "http://www.borgelt.net/pyfim.html\n",
    "\n",
    "Comment on the results from both implementations (your Hadoop MapReduce of apriori versus pyFIM) \n",
    "in terms of results and execution times.\n"
   ]
  },
  {
   "cell_type": "code",
   "execution_count": null,
   "metadata": {
    "collapsed": true
   },
   "outputs": [],
   "source": []
  },
  {
   "cell_type": "markdown",
   "metadata": {},
   "source": [
    "<b>HW3.4</b> (Conceptual Exercise)\n",
    "\n",
    "Suppose that you wished to perform the Apriori algorithm once again,\n",
    "though this time now with the goal of listing the top 5 rules with corresponding confidence scores \n",
    "in decreasing order of confidence score for itemsets of size 3 using Hadoop MapReduce.\n",
    "A rule is now of the form: \n",
    "\n",
    "(item1, item2) ⇒ item3 \n",
    "\n",
    "Recall that the Apriori algorithm is iterative for increasing itemset size,\n",
    "working off of the frequent itemsets of the previous size to explore \n",
    "ONLY the NECESSARY subset of a large combinatorial space. \n",
    "Describe how you might design a framework to perform this exercise.\n",
    "\n",
    "In particular, focus on the following:\n",
    "  — map-reduce steps required\n",
    "  - enumeration of item sets and filtering for frequent candidates\n"
   ]
  },
  {
   "cell_type": "markdown",
   "metadata": {},
   "source": [
    "<span style=\"color:green\"><b>Answer</b></span>:\n",
    "\n",
    "Invert sort:\n",
    "\n",
    "(*, a, b)\n",
    "(a, b, c)\n",
    "\n",
    "From this, can count all the a, b terms via the pre-sorted *, a, b\n",
    "\n",
    "Particianing question:\n",
    "One option: only one reducer.\n",
    "Another option: multiple passes through the MapReduce\n",
    "\n",
    "\n",
    "\n"
   ]
  },
  {
   "cell_type": "code",
   "execution_count": null,
   "metadata": {
    "collapsed": true
   },
   "outputs": [],
   "source": []
  },
  {
   "cell_type": "code",
   "execution_count": null,
   "metadata": {
    "collapsed": true
   },
   "outputs": [],
   "source": []
  },
  {
   "cell_type": "markdown",
   "metadata": {},
   "source": [
    "<span style=\"color:silver\"><b>HW2.0.</b> What is a race condition in the context of parallel computation? Give an example.\n",
    "What is MapReduce?\n",
    "How does it differ from Hadoop?\n",
    "Which programming paradigm is Hadoop based on? Explain and give a simple example in code and show the code running.</span>"
   ]
  },
  {
   "cell_type": "markdown",
   "metadata": {},
   "source": [
    "<span style=\"color:green\"><b>Answer:</b></span>\n",
    "\n",
    "A <b>race condition</b> is a condition where two threads must access the same data source. The programmer in this instance does not control which thread modifies the data first. As a result, it is possible that the ultimate end product of the code differs at random based on the order that the data source is accessed by threads.\n",
    "\n",
    "As an example, say the number \"3\" is stored on disk. Thread 1 wants to double the number, while Thread 2 wants to add 5 to the number. If Thread 1 acts first, the result is $(3 * 2) + 5 = 11$. If Thread 2 acts first, the result is $(3 + 5) * 2 = 16$. This sort of condition can cause all sorts of difficulties.\n",
    "\n",
    "<br>\n",
    "<b>MapReduce</b> is a problem solving framework/concept for embaressingly parallel data analysis. At its core, a problem is chunked and first processed in parallel by a number of mappers. Reducers then \"fold\" together the results of the mappers into a final output. <b>Hadoop</b> is a technical environment that, when combined with Hadoop File System allows a programmer to execute MapReduce jobs with ease. Hadoop programming is based on the MapReduce paradigm, which stems back to Functional Programming, or the idea of a programming language that can accept entire functions as an arguement.\n",
    "\n",
    "Hadoop is similar to functional programming because the \"mapper\" and \"reducer\" passed to Hadoop can be thought of as two functions being passed as arguements to the Hadoop program. Hadoop then executes these functions in the MapReduce framework. In fact, looking at the code examples throughout this assignment, we can see that the name of the mapper and reducer are passed as arguments to Hadoop Streaming.\n",
    "\n",
    "Below is a short example leveraging functional programming in Python.\n"
   ]
  },
  {
   "cell_type": "code",
   "execution_count": null,
   "metadata": {
    "collapsed": false
   },
   "outputs": [],
   "source": [
    "# Calculate Function\n",
    "def calculate( fun, *args ):\n",
    "    return fun( *args )\n",
    "\n",
    "# Add Function\n",
    "def add(a=0, b=0):\n",
    "    return a + b\n",
    "\n",
    "# Multiply Function\n",
    "def multiply(a=0, b=0):\n",
    "    return a * b\n",
    "\n",
    "# Demonstrate passing a function as an arguement to another function\n",
    "print calculate( add, 2, 3 )\n",
    "print calculate( multiply, 5, 3 )"
   ]
  },
  {
   "cell_type": "markdown",
   "metadata": {},
   "source": [
    "<span style=\"color:silver\"><b>HW2.1. </b> Sort in Hadoop MapReduce\n",
    "Given as input: Records of the form (integer, “NA”), where integer is any integer, and “NA” is just the empty string.\n",
    "Output: sorted key value pairs of the form (integer, “NA”); what happens if you have multiple reducers? Do you need additional steps? Explain.</span>\n",
    "\n",
    "<span style=\"color:silver\">Write code to generate N  random records of the form (integer, “NA”). Let N = 10,000.\n",
    "Write the python Hadoop streaming map-reduce job to perform this sort.</span>\n"
   ]
  },
  {
   "cell_type": "markdown",
   "metadata": {},
   "source": [
    "<span style=\"color:green\"><b>Answer:</b></span>\n",
    "\n",
    "If we have multiple reducers, the results will be sorted within each reducer - however they will not be globally sorted. While all the results for a given key wind up at the same reducer, reducers are not guaranteed to be given consecutive keys in the sort order. To correct for this, we could either force our system to send keys to the reducers in sorted chunks, or we could post-process all the reducer outputs to re-sort."
   ]
  },
  {
   "cell_type": "markdown",
   "metadata": {},
   "source": [
    "<span style=\"color:silver\"><b>HW2.2.</b> Using the Enron data from HW1 and Hadoop MapReduce streaming, write mapper/reducer pair that  will determine the number of occurrences of a single, user-specified word. Examine the word “assistance” and report your results.</span>\n",
    "\n",
    "\n",
    "   <span style=\"color:silver\">To do so, make sure that</span>\n",
    "   \n",
    "   - <span style=\"color:silver\">mapper.py counts all occurrences of a single word, and</span>\n",
    "   - <span style=\"color:silver\">reducer.py collates the counts of the single word.</span>"
   ]
  },
  {
   "cell_type": "code",
   "execution_count": null,
   "metadata": {
    "collapsed": false
   },
   "outputs": [],
   "source": [
    "%%writefile mapper.py\n",
    "#!/usr/bin/python\n",
    "import sys\n",
    "import re\n",
    "\n",
    "findword = sys.argv[1]\n",
    "\n",
    "# input comes from standard input\n",
    "for full_email in sys.stdin:\n",
    "\n",
    "    # Parse out email body for processing. Find body using \"tab spam/ham tab\"\n",
    "    # use regex to strip out non alpha-numeric. \"don't\" will become \"dont\" which is fine.\n",
    "    keyword = re.findall(\"\\t[0-1]\\t\",full_email)[0]\n",
    "    email_id, is_spam_tabbed, email_body = full_email.partition(keyword)\n",
    "    email_body = re.sub('[^A-Za-z0-9\\s]+', '', email_body)\n",
    "\n",
    "    for word in email_body.split():\n",
    "        if word == findword:\n",
    "            print '%s\\t%s' % (word, 1)"
   ]
  },
  {
   "cell_type": "code",
   "execution_count": null,
   "metadata": {
    "collapsed": false
   },
   "outputs": [],
   "source": [
    "%%writefile reducer.py\n",
    "#!/usr/bin/python\n",
    "import sys\n",
    "\n",
    "current_word = None\n",
    "current_count = 0\n",
    "word = None\n",
    "\n",
    "# input comes from standard input\n",
    "for line in sys.stdin:\n",
    "    # parse the input we got from mapper.py\n",
    "    word, count = line.strip().split('\\t', 1)\n",
    "    count = int(count)\n",
    "\n",
    "    # take advantage of sorted keys\n",
    "    if current_word == word:\n",
    "        current_count += count\n",
    "    else:\n",
    "        if current_word:\n",
    "            # print result when word changes\n",
    "            print \"{}\\t{}\".format(current_word, current_count)\n",
    "        current_count = count\n",
    "        current_word = word\n",
    "\n",
    "# print final word\n",
    "if current_word == word:\n",
    "    print \"{}\\t{}\".format(current_word, current_count)\n"
   ]
  },
  {
   "cell_type": "code",
   "execution_count": null,
   "metadata": {
    "collapsed": false
   },
   "outputs": [],
   "source": [
    "# Move input file to HDFS\n",
    "!hdfs dfs -put ./enronemail_1h.txt ./W261/In/HW2/"
   ]
  },
  {
   "cell_type": "code",
   "execution_count": null,
   "metadata": {
    "collapsed": false
   },
   "outputs": [],
   "source": [
    "# HW2.2: Execute a job using Hadoop Streaming to search the input file for a user-specified word\n",
    "def HW2_2(term=\"assistance\"):    \n",
    "    import re\n",
    "\n",
    "    !hadoop jar /usr/local/Cellar/hadoop/2.6.0/libexec/share/hadoop/tools/lib/hadoop-streaming-2.6.0.jar \\\n",
    "    -Dmapreduce.job.maps=10 \\\n",
    "    -Dmapreduce.job.reduces=1 \\\n",
    "    -files ./mapper.py,./reducer.py \\\n",
    "    -mapper './mapper.py {term}' \\\n",
    "    -reducer ./reducer.py \\\n",
    "    -input ./W261/In/HW2/enronemail_1h.txt -output ./W261/Out/HW2_2\n",
    "    \n",
    "    print\n",
    "    print \"Display head of file to prove run worked:\"\n",
    "    !hadoop fs -cat ./W261/Out/HW2_2/part-00000 | head -n15\n",
    "\n",
    "    # Crosscheck results (data is small enough to use RE in python)\n",
    "    print \"Running Crosscheck...\"\n",
    "    with open (\"enronemail_1h.txt\", \"r\") as myfile:\n",
    "        print \"Check Result:\", len(re.findall(term,myfile.read()))\n",
    "        \n",
    "HW2_2(term=\"assistance\")\n",
    "\n"
   ]
  },
  {
   "cell_type": "markdown",
   "metadata": {},
   "source": [
    "<span style=\"color:silver\"><b>HW2.3.</b> Using the Enron data from HW1 and Hadoop MapReduce, write  a mapper/reducer pair that\n",
    "   will classify the email messages by a single, user-specified word. Examine the word “assistance” and report your results. To do so, make sure that</span>\n",
    "   \n",
    "   - <span style=\"color:silver\">mapper.py</span>\n",
    "   - <span style=\"color:silver\">reducer.py </span>\n",
    "\n",
    "   <span style=\"color:silver\">performs a single word multinomial Naive Bayes classification.</span>"
   ]
  },
  {
   "cell_type": "code",
   "execution_count": null,
   "metadata": {
    "collapsed": false
   },
   "outputs": [],
   "source": [
    "%%writefile mapper.py\n",
    "#!/usr/bin/python\n",
    "import sys\n",
    "import re\n",
    "\n",
    "# Get search term(s)\n",
    "findword = sys.argv[1]\n",
    "\n",
    "for full_email in sys.stdin:\n",
    "#with open (findfile, \"r\") as myfile:\n",
    "#    for full_email in myfile:\n",
    "    # Empty dictionary\n",
    "    term_hits = {}\n",
    "\n",
    "    # Spam classification\n",
    "    is_spam = re.findall(\"\\t([0-1])\\t\",full_email)[0]\n",
    "\n",
    "    # Parse out email body for processing. Find body using \"tab spam/ham tab\"\n",
    "    # use regex to strip out non alpha-numeric. \"don't\" will become \"dont\" which is fine for classifying.\n",
    "    keyword = re.findall(\"\\t[0-1]\\t\",full_email)[0]\n",
    "    email_id, is_spam_tabbed, email_body = full_email.partition(keyword)\n",
    "    email_body = re.sub('[^A-Za-z0-9\\s]+', '', email_body)\n",
    "    # Must process search query and email bodies the same\n",
    "    findword = re.sub('[^A-Za-z0-9\\s]+', '', findword)\n",
    "    email_len = len(email_body.split())\n",
    "\n",
    "    # Build counts of term words. \n",
    "    for word in list(set(email_body.split())):\n",
    "        term_hits[word] = len(re.findall(word,email_body))\n",
    "\n",
    "    # Print as tuple with unique splitter \"|||\"\n",
    "    print \"{}\\t{} ||| {} ||| {}\".format(email_id, is_spam, email_len, term_hits)\n"
   ]
  },
  {
   "cell_type": "code",
   "execution_count": null,
   "metadata": {
    "collapsed": false
   },
   "outputs": [],
   "source": [
    "%%writefile reducer.py\n",
    "#!/usr/bin/python\n",
    "import sys\n",
    "import ast\n",
    "import math\n",
    "\n",
    "# Get search term(s)\n",
    "findword = sys.argv[1]\n",
    "search_terms = findword.split()\n",
    "\n",
    "# Parse all mapper results into a list so we can loop through again to predict after \n",
    "# looping through to train the model\n",
    "mapper_results = []\n",
    "for line in sys.stdin:\n",
    "    mapper_results.append(line)\n",
    "\n",
    "spam_term_counts = {}\n",
    "ham_term_counts = {}\n",
    "word_prob_given_spam = {}\n",
    "word_prob_given_ham = {}\n",
    "spam_count = 0\n",
    "ham_count = 0\n",
    "spam_len = 0\n",
    "ham_len = 0\n",
    "distinct_term_list = []\n",
    "\n",
    "# Open each file and build Multinomial Naive Bayes model\n",
    "for processed_email in mapper_results:\n",
    "    # Read in tuples created by mapper\n",
    "    email_id, processed_email = processed_email.split(\"\\t\")\n",
    "    processed_email = processed_email.split(\" ||| \")\n",
    "    is_spam = int(processed_email[0])\n",
    "    email_len = int(processed_email[1])\n",
    "    count_dict = ast.literal_eval(processed_email[2])\n",
    "\n",
    "    # Build counts for spam and ham definitions.\n",
    "    if is_spam:\n",
    "        for key, value in count_dict.iteritems():\n",
    "            spam_term_counts[key] = spam_term_counts.get(key, 0) + value\n",
    "        spam_count += 1\n",
    "        spam_len += email_len\n",
    "    else:\n",
    "        for key, value in count_dict.iteritems():\n",
    "            ham_term_counts[key] = ham_term_counts.get(key, 0) + value\n",
    "        ham_count += 1\n",
    "        ham_len += email_len\n",
    "\n",
    "    distinct_term_list = list(set(distinct_term_list + count_dict.keys()))\n",
    "\n",
    "# Calculate our priors based on the overall ratio of spam to ham\n",
    "spam_prior = float(spam_count) / (spam_count + ham_count)\n",
    "ham_prior = 1 - spam_prior\n",
    "spam_prior = math.log10(spam_prior)\n",
    "ham_prior = math.log10(ham_prior)\n",
    "\n",
    "# Calculate our conditional probabilites for the search term using MNB formula\n",
    "#     term_given_spam = (spam_term_count + 1 for smoothing) / (total count of spam words + total distinct vocab size)\n",
    "distinct_term_count = len(distinct_term_list)\n",
    "\n",
    "for term in search_terms:\n",
    "    word_prob_given_spam[term] = math.log10((spam_term_counts.get(term,0) + 1.0) / (float(spam_len) + distinct_term_count))\n",
    "    word_prob_given_ham[term] = math.log10((ham_term_counts.get(term,0) + 1.0) / (float(ham_len) + distinct_term_count))\n",
    "\n",
    "# Now let's predict!\n",
    "accuracy = []\n",
    "for processed_email in mapper_results:\n",
    "    # Defaults\n",
    "    pred_spam = 0\n",
    "    spam_prediction = spam_prior\n",
    "    ham_prediction = ham_prior\n",
    "\n",
    "    # Read in tuples created by mapper\n",
    "    email_id, processed_email = processed_email.split(\"\\t\")\n",
    "    processed_email = processed_email.split(\" ||| \")\n",
    "    is_spam = int(processed_email[0])\n",
    "    count_dict = ast.literal_eval(processed_email[2])\n",
    "\n",
    "    # Read in counts to use in prediction\n",
    "    for term in word_prob_given_spam.keys():\n",
    "        # Calculate the probability for each class\n",
    "        spam_prediction += (word_prob_given_spam[term] * count_dict.get(term, 0))\n",
    "        ham_prediction += (word_prob_given_ham[term] * count_dict.get(term, 0))\n",
    "\n",
    "    # Pick the higher probability\n",
    "    if spam_prediction > ham_prediction: \n",
    "        pred_spam = 1\n",
    "\n",
    "    # Store accuracy in a list\n",
    "    accuracy.append(1*(pred_spam==is_spam))\n",
    "\n",
    "    # Print predictions to results file\n",
    "    print '{}\\t{}\\t{}'.format(email_id, is_spam, pred_spam)\n",
    "\n",
    "# Print accuracy\n",
    "sys.stderr.write(\"\\nSpam Probs: {}\\n\".format(word_prob_given_spam))\n",
    "sys.stderr.write(\"Ham Probs: {}\\n\".format(word_prob_given_ham))\n",
    "sys.stderr.write(\"Accuracy = {:.2f}\\n\".format(float(sum(accuracy))/len(accuracy)))\n"
   ]
  },
  {
   "cell_type": "code",
   "execution_count": null,
   "metadata": {
    "collapsed": false
   },
   "outputs": [],
   "source": [
    "# HW2.3: Predict via MNBusing Hadoop Streaming for a user-specified word\n",
    "def HW2_3(term=\"assistance\"):\n",
    "    !hadoop jar /usr/local/Cellar/hadoop/2.6.0/libexec/share/hadoop/tools/lib/hadoop-streaming-2.6.0.jar \\\n",
    "    -Dmapreduce.job.maps=10 \\\n",
    "    -Dmapreduce.job.reduces=1 \\\n",
    "    -files ./mapper.py,./reducer.py \\\n",
    "    -mapper './mapper.py {term}' \\\n",
    "    -reducer './reducer.py {term}' \\\n",
    "    -input ./W261/In/HW2/enronemail_1h.txt -output ./W261/Out/HW2_3\n",
    "    \n",
    "    print\n",
    "    print \"Display head of file to prove run worked:\"\n",
    "    !hadoop fs -cat ./W261/Out/HW2_3/part-00000 | head -n15\n",
    "        \n",
    "HW2_3(term=\"assistance\")\n",
    "\n",
    "# Note - output shows same accuracy of 60% that we saw in HW1\n"
   ]
  },
  {
   "cell_type": "markdown",
   "metadata": {},
   "source": [
    "<span style=\"color:silver\"><b>HW2.4.</b> Using the Enron data from HW1 and in the Hadoop MapReduce framework, write  a mapper/reducer pair that\n",
    "   will classify the email messages using multinomial Naive Bayes Classifier using a list of one or more user-specified words. Examine the words “assistance”, “valium”, and “enlargementWithATypo” and report your results\n",
    "   To do so, make sure that</span>\n",
    "\n",
    "   - <span style=\"color:silver\">mapper.py </span>\n",
    "   - <span style=\"color:silver\">reducer.py </span>\n",
    "\n",
    "   <span style=\"color:silver\">performs the multiple-word multinomial Naive Bayes classification via the chosen list.</span>"
   ]
  },
  {
   "cell_type": "code",
   "execution_count": null,
   "metadata": {
    "collapsed": false
   },
   "outputs": [],
   "source": [
    "# HW2.4: Predict via MNBusing Hadoop Streaming for multiple user-specified words\n",
    "# Note - the solution program to HW2.3 can already do this. We just need to give it more terms.\n",
    "def HW2_4(term=\"assistance valium enlargementWithATypo\"):\n",
    "    !hadoop jar /usr/local/Cellar/hadoop/2.6.0/libexec/share/hadoop/tools/lib/hadoop-streaming-2.6.0.jar \\\n",
    "    -Dmapreduce.job.maps=10 \\\n",
    "    -Dmapreduce.job.reduces=1 \\\n",
    "    -files ./mapper.py,./reducer.py \\\n",
    "    -mapper './mapper.py \"{term}\"' \\\n",
    "    -reducer './reducer.py \"{term}\"' \\\n",
    "    -input ./W261/In/HW2/enronemail_1h.txt -output ./W261/Out/HW2_4\n",
    "    \n",
    "    print\n",
    "    print \"Display head of file to prove run worked:\"\n",
    "    !hadoop fs -cat ./W261/Out/HW2_4/part-00000 | head -n15\n",
    "        \n",
    "HW2_4(term=\"assistance valium enlargementWithATypo\")\n",
    "\n",
    "# Note - output shows same accuracy of 63% that we saw in HW1\n"
   ]
  },
  {
   "cell_type": "markdown",
   "metadata": {},
   "source": [
    "<span style=\"color:silver\"><b>HW2.5.</b> Using the Enron data from HW1 an in the  Hadoop MapReduce framework, write  a mapper/reducer for a multinomial Naive Bayes Classifier that\n",
    "   will classify the email messages using  words present. Also drop words with a frequency of less than three (3). How does it affect the misclassifcation error of learnt naive multinomial Bayesian Classifiers on the training dataset:</span>\n",
    "\n",
    "\n",
    "<span style=\"color:green\"><b>Answer:</b></span>\n",
    "The full word (>=3) classifier drastically increases accuracy from 0.63 to 0.90. This is a misclassification error rate of 10%."
   ]
  },
  {
   "cell_type": "code",
   "execution_count": null,
   "metadata": {
    "collapsed": false
   },
   "outputs": [],
   "source": [
    "%%writefile reducer.py\n",
    "#!/usr/bin/python\n",
    "import sys\n",
    "import ast\n",
    "import math\n",
    "\n",
    "# Get search term(s)\n",
    "findword = sys.argv[1]\n",
    "search_terms = findword.split()\n",
    "\n",
    "# Parse all mapper results into a list so we can loop through again to predict after \n",
    "# looping through to train the model\n",
    "mapper_results = []\n",
    "for line in sys.stdin:\n",
    "    mapper_results.append(line)\n",
    "\n",
    "spam_term_counts = {}\n",
    "ham_term_counts = {}\n",
    "word_prob_given_spam = {}\n",
    "word_prob_given_ham = {}\n",
    "spam_count = 0\n",
    "ham_count = 0\n",
    "spam_len = 0\n",
    "ham_len = 0\n",
    "distinct_term_list = []\n",
    "\n",
    "# Open each file and build Multinomial Naive Bayes model\n",
    "for processed_email in mapper_results:\n",
    "    # Read in tuples created by mapper\n",
    "    email_id, processed_email = processed_email.split(\"\\t\")\n",
    "    processed_email = processed_email.split(\" ||| \")\n",
    "    is_spam = int(processed_email[0])\n",
    "    email_len = int(processed_email[1])\n",
    "    count_dict = ast.literal_eval(processed_email[2])\n",
    "\n",
    "    # Build counts for spam and ham definitions.\n",
    "    if is_spam:\n",
    "        for key, value in count_dict.iteritems():\n",
    "            spam_term_counts[key] = spam_term_counts.get(key, 0) + value\n",
    "        spam_count += 1\n",
    "        spam_len += email_len\n",
    "    else:\n",
    "        for key, value in count_dict.iteritems():\n",
    "            ham_term_counts[key] = ham_term_counts.get(key, 0) + value\n",
    "        ham_count += 1\n",
    "        ham_len += email_len\n",
    "\n",
    "    distinct_term_list = list(set(distinct_term_list + count_dict.keys()))\n",
    "\n",
    "# Calculate our priors based on the overall ratio of spam to ham\n",
    "spam_prior = float(spam_count) / (spam_count + ham_count)\n",
    "ham_prior = 1 - spam_prior\n",
    "spam_prior = math.log10(spam_prior)\n",
    "ham_prior = math.log10(ham_prior)\n",
    "\n",
    "# Calculate our conditional probabilites for the search term using MNB formula\n",
    "#     term_given_spam = (spam_term_count + 1 for smoothing) / (total count of spam words + total distinct vocab size)\n",
    "distinct_term_count = len(distinct_term_list)\n",
    "\n",
    "# Added logic for this problem - replace search_terms with all terms if we were given a \"*\"\n",
    "if search_terms[0] == \"*\":\n",
    "    search_terms = distinct_term_list\n",
    "\n",
    "for term in search_terms:\n",
    "    if (spam_term_counts.get(term,0) + ham_term_counts.get(term,0)) >= 3:\n",
    "        word_prob_given_spam[term] = math.log10((spam_term_counts.get(term,0) + 1.0) / (float(spam_len) + distinct_term_count))\n",
    "        word_prob_given_ham[term] = math.log10((ham_term_counts.get(term,0) + 1.0) / (float(ham_len) + distinct_term_count))\n",
    "\n",
    "# Now let's predict!\n",
    "accuracy = []\n",
    "for processed_email in mapper_results:\n",
    "    # Defaults\n",
    "    pred_spam = 0\n",
    "    spam_prediction = spam_prior\n",
    "    ham_prediction = ham_prior\n",
    "\n",
    "    # Read in tuples created by mapper\n",
    "    email_id, processed_email = processed_email.split(\"\\t\")\n",
    "    processed_email = processed_email.split(\" ||| \")\n",
    "    is_spam = int(processed_email[0])\n",
    "    count_dict = ast.literal_eval(processed_email[2])\n",
    "\n",
    "    # Read in counts to use in prediction\n",
    "    for term in word_prob_given_spam.keys():\n",
    "        # Calculate the probability for each class\n",
    "        spam_prediction += (word_prob_given_spam[term] * count_dict.get(term, 0))\n",
    "        ham_prediction += (word_prob_given_ham[term] * count_dict.get(term, 0))\n",
    "\n",
    "    # Pick the higher probability\n",
    "    if spam_prediction > ham_prediction: \n",
    "        pred_spam = 1\n",
    "\n",
    "    # Store accuracy in a list\n",
    "    accuracy.append(1*(pred_spam==is_spam))\n",
    "\n",
    "    # Print predictions to results file\n",
    "    print '{}\\t{}\\t{}'.format(email_id, is_spam, pred_spam)\n",
    "\n",
    "# Print accuracy\n",
    "sys.stderr.write(\"Accuracy = {:.2f}\\n\".format(float(sum(accuracy))/len(accuracy)))\n"
   ]
  },
  {
   "cell_type": "code",
   "execution_count": null,
   "metadata": {
    "collapsed": false
   },
   "outputs": [],
   "source": [
    "# HW2.5: Predict via MNBusing Hadoop Streaming for multiple user-specified words\n",
    "# Note - the mapper program to HW2.3 can already do this, so we only created a new reducer\n",
    "def HW2_5(term=\"*\"):\n",
    "    !hadoop jar /usr/local/Cellar/hadoop/2.6.0/libexec/share/hadoop/tools/lib/hadoop-streaming-2.6.0.jar \\\n",
    "    -Dmapreduce.job.maps=10 \\\n",
    "    -Dmapreduce.job.reduces=1 \\\n",
    "    -files ./mapper.py,./reducer.py \\\n",
    "    -mapper './mapper.py \"{term}\"' \\\n",
    "    -reducer './reducer.py \"{term}\"' \\\n",
    "    -input ./W261/In/HW2/enronemail_1h.txt -output ./W261/Out/HW2_5\n",
    "    \n",
    "    print\n",
    "    print \"Display head of file to prove run worked:\"\n",
    "    !hadoop fs -cat ./W261/Out/HW2_5/part-00000 | head -n15\n",
    "        \n",
    "HW2_5(term=\"*\")\n",
    "\n",
    "# Note - output shows 90% accuracy\n"
   ]
  },
  {
   "cell_type": "code",
   "execution_count": null,
   "metadata": {
    "collapsed": false
   },
   "outputs": [],
   "source": [
    "# This cell can be used to delete old output to allow re-run of any Hadoop script.\n",
    "#!hadoop fs -rm -r ./W261/Out/HW2_1\n",
    "#!hadoop fs -rm -r ./W261/Out/HW2_2\n",
    "#!hadoop fs -rm -r ./W261/Out/HW2_3\n",
    "#!hadoop fs -rm -r ./W261/Out/HW2_4\n",
    "#!hadoop fs -rm -r ./W261/Out/HW2_5"
   ]
  },
  {
   "cell_type": "markdown",
   "metadata": {
    "collapsed": true
   },
   "source": [
    "This concludes HW 2.0. Thanks for reading!"
   ]
  },
  {
   "cell_type": "code",
   "execution_count": null,
   "metadata": {
    "collapsed": false
   },
   "outputs": [],
   "source": [
    "item_inventory = {}\n",
    "\n",
    "with open(\"ProductPurchaseData.txt\") as infile:\n",
    "    for line in infile:\n",
    "        for item in line.rstrip('\\n').split():\n",
    "            item_inventory[item] = item_inventory.get(item, 0) + 1\n",
    "            \n",
    "x = 1\n",
    "for item, inventory in item_inventory.iteritems():\n",
    "    while x < 5:\n",
    "        print \"{}\\t{}\".format(item, inventory)\n",
    "        x += 1\n",
    "        \n",
    "sample = [\"ELE39978\t2\",\"ELE39978\t4\",\"ELE39978\t5\",\"ELE39978\t2\",\"CJE39978\t2\",\"QJE39978\t7\",\"QJE39978\t12\"]\n",
    "\n",
    "unique_item_count = 0\n",
    "current_item_count = 0\n",
    "current_item = \"\"\n",
    "\n",
    "for line in sample:\n",
    "    line = line.rstrip('\\n').split()\n",
    "    if current_item == line[0]:\n",
    "        # If same item, add to count\n",
    "        current_item_count += int(line[1])\n",
    "    else:\n",
    "        # If new item, print, increment unique, restart count\n",
    "        if unique_item_count > 0:\n",
    "            print unique_item_count, current_item, current_item_count\n",
    "        unique_item_count += 1\n",
    "        current_item_count = int(line[1])\n",
    "        current_item = line[0]\n",
    "        \n",
    "# Print final row\n",
    "print unique_item_count, current_item, current_item_count\n"
   ]
  },
  {
   "cell_type": "code",
   "execution_count": null,
   "metadata": {
    "collapsed": false
   },
   "outputs": [],
   "source": [
    "basket_inventory = {}\n",
    "\n",
    "with open(\"ProductPurchaseData.txt\") as infile:\n",
    "    for basket in infile:\n",
    "        basket = basket.rstrip('\\n')\n",
    "        basket_inventory[basket] = basket_inventory.get(basket, 0) + 1\n",
    "            \n",
    "#for basket, inventory in basket_inventory.iteritems():\n",
    "#    print \"{}\\t{}\".format(basket, inventory)\n",
    "#    print \"{}\\t{}\".format(basket.replace(\" \", \"_\"), inventory)\n",
    "\n",
    "unique_basket_count = 0\n",
    "current_basket_count = 0\n",
    "current_basket = \"\"\n",
    "largest_basket = []\n",
    "largest_basket_size = 0\n",
    "\n",
    "test = [\"FRO44973 ELE90882 \t1\", \"FRO44973 ELE90882 \t3\", \"GRO24246 ELE26032 DAI48891 ELE78169 \t1\"\n",
    "       , \"GRO24246 ELE26032 DAI48891 ELE78170 \t1\", \"GRO24246 ELE26032 DAI48891 ELE78170 \t1\"]\n",
    "#for line in sys.stdin:\n",
    "for line in test:\n",
    "    line = line.rstrip('\\n').split('\\t')\n",
    "    if current_basket == line[0]:\n",
    "        # If same item, add to count\n",
    "        current_basket_count += int(line[1])\n",
    "    else:\n",
    "        # If new item, print, increment unique, restart count\n",
    "        if unique_basket_count > 0:\n",
    "            print unique_basket_count, current_basket, current_basket_count\n",
    "        unique_basket_count += 1\n",
    "        current_basket_count = int(line[1])\n",
    "        current_basket = line[0]\n",
    "        \n",
    "    # Track the maximum basket size\n",
    "    if len(current_basket.split()) > largest_basket_size:\n",
    "        largest_basket_size = len(current_basket.split())\n",
    "        largest_basket = [current_basket]\n",
    "    elif len(current_basket.split()) == largest_basket_size:\n",
    "        largest_basket.append(current_basket)\n",
    "        \n",
    "print unique_item_count, current_item, current_item_count\n",
    "print \"The largest basket(s) have {} items: {}\".format(largest_basket_size, largest_basket)\n"
   ]
  }
 ],
 "metadata": {
  "kernelspec": {
   "display_name": "Python 2",
   "language": "python",
   "name": "python2"
  },
  "language_info": {
   "codemirror_mode": {
    "name": "ipython",
    "version": 2
   },
   "file_extension": ".py",
   "mimetype": "text/x-python",
   "name": "python",
   "nbconvert_exporter": "python",
   "pygments_lexer": "ipython2",
   "version": "2.7.8"
  }
 },
 "nbformat": 4,
 "nbformat_minor": 0
}
